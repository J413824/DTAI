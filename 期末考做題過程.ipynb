{
 "cells": [
  {
   "cell_type": "code",
   "execution_count": null,
   "metadata": {},
   "outputs": [],
   "source": [
    "#1 計算除法餘數"
   ]
  },
  {
   "cell_type": "code",
   "execution_count": 1,
   "metadata": {},
   "outputs": [
    {
     "name": "stdout",
     "output_type": "stream",
     "text": [
      "t=9.0 b=14.0 h=8.2 area=94.3\n"
     ]
    }
   ],
   "source": [
    "#2 計算梯形面積並格式化輸出\n",
    "t = float(input())\n",
    "b = float(input())\n",
    "h = float(input())\n",
    "area = (t + b) * h / 2\n",
    "print('t=' f'{t}', 'b=' f'{b}', 'h=' f'{h}', 'area=' f'{area}')"
   ]
  },
  {
   "cell_type": "code",
   "execution_count": 2,
   "metadata": {},
   "outputs": [
    {
     "name": "stdout",
     "output_type": "stream",
     "text": [
      "park time:9h:29m\n",
      "pay:300 money\n"
     ]
    }
   ],
   "source": [
    "#3 停車費計算\n",
    "minutes = int(input())\n",
    "hours = minutes // 60\n",
    "remaining_minutes = minutes % 60\n",
    "if remaining_minutes > 0:\n",
    "    fee = hours * 40 + 20\n",
    "else:\n",
    "    fee = hours * 40 \n",
    "\n",
    "if fee > 300:\n",
    "   fee = 300\n",
    "print('park time:'f'{hours}'\"h:\"f'{remaining_minutes}'\"m\")\n",
    "print(\"pay:\"f'{fee}'\" money\")"
   ]
  },
  {
   "cell_type": "code",
   "execution_count": 3,
   "metadata": {},
   "outputs": [
    {
     "name": "stdout",
     "output_type": "stream",
     "text": [
      "[11, 18, 25, 32, 39, 46, 53, 60, 67, 74, 81, 88, 95]\n"
     ]
    }
   ],
   "source": [
    "#4 利用range產生指定串列list\n",
    "a,b,c = map(int,input().split())\n",
    "k = range(a,b,c)\n",
    "print(list(k))"
   ]
  },
  {
   "cell_type": "code",
   "execution_count": 4,
   "metadata": {},
   "outputs": [
    {
     "name": "stdout",
     "output_type": "stream",
     "text": [
      "2000 is leap year\n"
     ]
    }
   ],
   "source": [
    "#5 判斷平年.閨年\n",
    "year = int(input())\n",
    "if year%4 == 0:\n",
    "    if year%100 == 0:\n",
    "       if year%400 == 0: \n",
    "           print(f'{year} is leap year')\n",
    "       else:\n",
    "           print(f'{year} is common year')\n",
    "    else:\n",
    "        print(f'{year} is leap year')\n",
    "else:\n",
    "    print(f'{year} is common year')"
   ]
  },
  {
   "cell_type": "code",
   "execution_count": 6,
   "metadata": {},
   "outputs": [
    {
     "name": "stdout",
     "output_type": "stream",
     "text": [
      "80 is B\n"
     ]
    }
   ],
   "source": [
    "#6 成績等第判斷\n",
    "X = int(input())\n",
    "if X >=90 and X<=100:\n",
    "    print(f\"{X}\"' is A')\n",
    "elif X >=80 and X<=89:\n",
    "    print(f\"{X}\"' is B')\n",
    "elif X >=70 and X<=79:\n",
    "    print(f\"{X}\"' is C')\n",
    "elif X >=60 and X<=69:\n",
    "    print(f\"{X}\"' is D')\n",
    "elif X <60 and X >=0:\n",
    "    print(f\"{X}\"' is E')\n",
    "else:\n",
    "    print(f\"{X}\"' is error')"
   ]
  },
  {
   "cell_type": "code",
   "execution_count": 7,
   "metadata": {},
   "outputs": [
    {
     "name": "stdout",
     "output_type": "stream",
     "text": [
      "15,16,17,18,"
     ]
    }
   ],
   "source": [
    "#7 利用for迴圈產生指定數列\n",
    "a,b,c = map(int,input().split())\n",
    "\n",
    "for i in range(a,b,c):\n",
    "    print(i, end=',')"
   ]
  },
  {
   "cell_type": "code",
   "execution_count": 8,
   "metadata": {},
   "outputs": [
    {
     "name": "stdout",
     "output_type": "stream",
     "text": [
      "*\n",
      "**\n",
      "***\n",
      "****\n",
      "*****\n",
      "******\n",
      "*******\n",
      "********\n",
      "*********\n",
      "**********\n"
     ]
    }
   ],
   "source": [
    "#8 用*印出靠左下的直角三角形\n",
    "n = int(input())\n",
    "for i in range(1,n+1):\n",
    "  for j in range(1,i+1):\n",
    "    print('*', end='')\n",
    "  print()"
   ]
  },
  {
   "cell_type": "code",
   "execution_count": 10,
   "metadata": {},
   "outputs": [
    {
     "name": "stdout",
     "output_type": "stream",
     "text": [
      "9*1=9 9*2=18 9*3=27 9*4=36 9*5=45 9*6=54 9*7=63 9*8=72 9*9=81 \n"
     ]
    }
   ],
   "source": [
    "#9 印出乘法表\n",
    "n = int(input())\n",
    "for i in range(n,10):\n",
    "    for j in range(1,10):\n",
    "        print('%d*%d=%d' % (i,j,i*j), end=' ')\n",
    "    print()"
   ]
  },
  {
   "cell_type": "code",
   "execution_count": 11,
   "metadata": {},
   "outputs": [
    {
     "name": "stdout",
     "output_type": "stream",
     "text": [
      "153,370,371,407,\n"
     ]
    }
   ],
   "source": [
    "#10 利用for迴圈來尋找水仙花數 \n",
    "\n",
    "# 讀取使用者輸入的起始值和終止值\n",
    "start, end = map(int, input().split())\n",
    "\n",
    "# 初始化結果列表\n",
    "narcissistic_numbers = []\n",
    "\n",
    "# 遍歷範圍內的所有三位數\n",
    "for number in range(start, end + 1):\n",
    "    if 100 <= number <= 999:  # 確保只處理三位數\n",
    "        # 提取個位、十位和百位數字\n",
    "        units = number % 10\n",
    "        tens = (number // 10) % 10\n",
    "        hundreds = number // 100\n",
    "\n",
    "        # 計算立方和\n",
    "        sum_of_cubes = units**3 + tens**3 + hundreds**3\n",
    "\n",
    "        # 判斷是否為水仙花數\n",
    "        if sum_of_cubes == number:\n",
    "            narcissistic_numbers.append(number)\n",
    "\n",
    "# 印出結果，以逗號分隔\n",
    "print(','.join(map(str, narcissistic_numbers)) + ',')"
   ]
  }
 ],
 "metadata": {
  "kernelspec": {
   "display_name": "Python 3",
   "language": "python",
   "name": "python3"
  },
  "language_info": {
   "codemirror_mode": {
    "name": "ipython",
    "version": 3
   },
   "file_extension": ".py",
   "mimetype": "text/x-python",
   "name": "python",
   "nbconvert_exporter": "python",
   "pygments_lexer": "ipython3",
   "version": "3.12.4"
  }
 },
 "nbformat": 4,
 "nbformat_minor": 2
}
