{
 "cells": [
  {
   "cell_type": "code",
   "execution_count": 1,
   "metadata": {},
   "outputs": [
    {
     "name": "stdout",
     "output_type": "stream",
     "text": [
      "0821\n"
     ]
    }
   ],
   "source": [
    "print('0821')"
   ]
  },
  {
   "cell_type": "code",
   "execution_count": 3,
   "metadata": {},
   "outputs": [
    {
     "name": "stdout",
     "output_type": "stream",
     "text": [
      "5\n"
     ]
    }
   ],
   "source": [
    "a = input()\n",
    "print(len(a))"
   ]
  },
  {
   "cell_type": "code",
   "execution_count": 4,
   "metadata": {},
   "outputs": [
    {
     "name": "stdout",
     "output_type": "stream",
     "text": [
      "450.0\n"
     ]
    }
   ],
   "source": [
    "t = float(input())\n",
    "b = float(input())\n",
    "h = float(input())\n",
    "area = (上底 + 下底) * 高 / 2\n",
    "print()"
   ]
  },
  {
   "cell_type": "code",
   "execution_count": 22,
   "metadata": {},
   "outputs": [
    {
     "name": "stdout",
     "output_type": "stream",
     "text": [
      "38.0 is over\n"
     ]
    }
   ],
   "source": [
    "X = float(input(\"請輸入你的體溫\"))\n",
    "if X >= 37.5:\n",
    "    print(f\"{X}\" ' is over')\n",
    "elif X >37.0 and X <=37.4:\n",
    "    print(f\"{X}\" ' is little over')\n",
    "elif X >34.0 and X <=36.9:\n",
    "    print(f\"{X}\" ' is normal')\n",
    "elif X <34.0:\n",
    "    print(f\"{X}\" ' is error')"
   ]
  },
  {
   "cell_type": "code",
   "execution_count": 23,
   "metadata": {},
   "outputs": [
    {
     "name": "stdout",
     "output_type": "stream",
     "text": [
      "39.0 is over\n"
     ]
    }
   ],
   "source": [
    "X = float(input())\n",
    "if X >=37.5:\n",
    "    print(f'{X}'\" is over\")\n",
    "elif X >37 and X <=37.4:\n",
    "    print(f'{X}'\" is little over\")\n",
    "elif X >34 and X <=36.9:\n",
    "    print(f'{X}'\" is normal\")\n",
    "elif X <34:\n",
    "    print(f'{X}'\" is error\")"
   ]
  },
  {
   "cell_type": "code",
   "execution_count": 31,
   "metadata": {},
   "outputs": [
    {
     "name": "stdout",
     "output_type": "stream",
     "text": [
      "t=2.0 b=5.0 h=4.8 area=16.8\n"
     ]
    }
   ],
   "source": [
    "#40\n",
    "t = float(input())\n",
    "b = float(input())\n",
    "h = float(input())\n",
    "area = (t + b) * h / 2\n",
    "print('t=' f'{t}', 'b=' f'{b}', 'h=' f'{h}', 'area=' f'{area}')"
   ]
  },
  {
   "cell_type": "code",
   "execution_count": 47,
   "metadata": {},
   "outputs": [
    {
     "name": "stdout",
     "output_type": "stream",
     "text": [
      "6 is summer\n"
     ]
    }
   ],
   "source": [
    "#27\n",
    "season = int(input())\n",
    "if season >=13 or season <1:\n",
    "    print(\"input error\")\n",
    "elif season >=3 and season <=5:\n",
    "    print(f'{season}'\" is spring\")\n",
    "elif season >=6 and season <=8:\n",
    "    print(f'{season}'\" is summer\")\n",
    "elif season >=9 and season <=11:\n",
    "    print(f'{season}'\" is autumn\")\n",
    "elif season == 12 or season == 1 or season == 2:\n",
    "    print(f'{season}'\" is winter\")"
   ]
  },
  {
   "cell_type": "markdown",
   "metadata": {},
   "source": []
  },
  {
   "cell_type": "code",
   "execution_count": null,
   "metadata": {},
   "outputs": [],
   "source": []
  },
  {
   "cell_type": "code",
   "execution_count": null,
   "metadata": {},
   "outputs": [],
   "source": []
  },
  {
   "cell_type": "markdown",
   "metadata": {},
   "source": []
  }
 ],
 "metadata": {
  "kernelspec": {
   "display_name": "Python 3",
   "language": "python",
   "name": "python3"
  },
  "language_info": {
   "codemirror_mode": {
    "name": "ipython",
    "version": 3
   },
   "file_extension": ".py",
   "mimetype": "text/x-python",
   "name": "python",
   "nbconvert_exporter": "python",
   "pygments_lexer": "ipython3",
   "version": "3.12.4"
  }
 },
 "nbformat": 4,
 "nbformat_minor": 2
}
