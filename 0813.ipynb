{
 "cells": [
  {
   "cell_type": "code",
   "execution_count": 6,
   "metadata": {},
   "outputs": [
    {
     "name": "stdout",
     "output_type": "stream",
     "text": [
      "0813\n"
     ]
    }
   ],
   "source": [
    "print('0813')"
   ]
  },
  {
   "cell_type": "code",
   "execution_count": 10,
   "metadata": {},
   "outputs": [
    {
     "ename": "TypeError",
     "evalue": "'>=' not supported between instances of 'str' and 'int'",
     "output_type": "error",
     "traceback": [
      "\u001b[1;31m---------------------------------------------------------------------------\u001b[0m",
      "\u001b[1;31mTypeError\u001b[0m                                 Traceback (most recent call last)",
      "Cell \u001b[1;32mIn[10], line 1\u001b[0m\n\u001b[1;32m----> 1\u001b[0m \u001b[38;5;28;01mif\u001b[39;00m(\u001b[38;5;124;43m\"\u001b[39;49m\u001b[38;5;124;43mscore\u001b[39;49m\u001b[38;5;124;43m\"\u001b[39;49m\u001b[43m \u001b[49m\u001b[38;5;241;43m>\u001b[39;49m\u001b[38;5;241;43m=\u001b[39;49m\u001b[38;5;241;43m60\u001b[39;49m ):\n\u001b[0;32m      2\u001b[0m     grade\u001b[38;5;241m=\u001b[39m\u001b[38;5;124m'\u001b[39m\u001b[38;5;124m及格\u001b[39m\u001b[38;5;124m'\u001b[39m\n\u001b[0;32m      3\u001b[0m \u001b[38;5;28msum\u001b[39m\u001b[38;5;241m=\u001b[39m \u001b[38;5;28msum\u001b[39m\u001b[38;5;241m+\u001b[39m score\n",
      "\u001b[1;31mTypeError\u001b[0m: '>=' not supported between instances of 'str' and 'int'"
     ]
    }
   ],
   "source": [
    "if(\"score\" >=60 ):\n",
    "    grade='及格'\n",
    "sum= sum+ score"
   ]
  },
  {
   "cell_type": "code",
   "execution_count": 18,
   "metadata": {},
   "outputs": [
    {
     "name": "stdout",
     "output_type": "stream",
     "text": [
      "密碼正確\n"
     ]
    }
   ],
   "source": [
    "密碼 = int(input(\"請輸入密碼\"))\n",
    "if 密碼 == 1234:\n",
    "    print(\"密碼正確\")\n",
    "else:\n",
    "    print(\"密碼錯誤\")"
   ]
  },
  {
   "cell_type": "code",
   "execution_count": 20,
   "metadata": {},
   "outputs": [
    {
     "name": "stdout",
     "output_type": "stream",
     "text": [
      "不會 會出大太陽\n"
     ]
    }
   ],
   "source": [
    "rain = str(input(\"今天會下雨嗎\"))\n",
    "if(rain==\"Y\" or rain==\"y\"):\n",
    "    print(\"會 出門記得帶傘\")\n",
    "else:\n",
    "    print(\"不會 會出大太陽\")"
   ]
  },
  {
   "cell_type": "code",
   "execution_count": 24,
   "metadata": {},
   "outputs": [
    {
     "name": "stdout",
     "output_type": "stream",
     "text": [
      "你輸入的數字是偶數\n"
     ]
    }
   ],
   "source": [
    "偶數判斷 = int(input(\"請輸入一個整數\"))\n",
    "if 偶數判斷%2 == 0:\n",
    "    print(\"你輸入的數字是偶數\")\n",
    "else:\n",
    "    print(\"你輸入的數字是奇數\")"
   ]
  },
  {
   "cell_type": "code",
   "execution_count": 51,
   "metadata": {},
   "outputs": [
    {
     "name": "stdout",
     "output_type": "stream",
     "text": [
      "體溫正常\n"
     ]
    }
   ],
   "source": [
    "體溫判斷 = float(input(\"請輸入你的體溫\"))\n",
    "if 體溫判斷 >= 37.5:\n",
    "    print(\"體溫過高\")\n",
    "elif 體溫判斷 >37.0 and 體溫判斷<=37.4:\n",
    "    print(\"體溫略高\")\n",
    "elif 體溫判斷 >34.0 and 體溫判斷<=36.9:\n",
    "    print(\"體溫正常\")\n",
    "elif 體溫判斷 <34.0:\n",
    "    print(\"體溫異常 請重新量測\")\n"
   ]
  },
  {
   "cell_type": "code",
   "execution_count": 57,
   "metadata": {},
   "outputs": [
    {
     "name": "stdout",
     "output_type": "stream",
     "text": [
      "A\n"
     ]
    }
   ],
   "source": [
    "成績判斷 = float(input(\"請輸入你的成績\"))\n",
    "if 成績判斷 >90.0:\n",
    "    print(\"A\")\n",
    "elif 成績判斷 >80.0 and 成績判斷 <89.0:\n",
    "    print(\"B\")\n",
    "elif 成績判斷 >70.0 and 成績判斷 <79.0:\n",
    "    print(\"C\")\n",
    "elif 成績判斷 >60.0 and 成績判斷 <69.0:\n",
    "    print(\"D\")\n",
    "elif 成績判斷 <=60.0:\n",
    "    print(\"E\")"
   ]
  },
  {
   "cell_type": "code",
   "execution_count": 68,
   "metadata": {},
   "outputs": [
    {
     "name": "stdout",
     "output_type": "stream",
     "text": [
      "500\n"
     ]
    }
   ],
   "source": [
    "total = int(input(\"請輸入你的購物車總額\"))\n",
    "if total >=1000:\n",
    "    total *=0.8\n",
    "    print(total)\n",
    "elif total <=1000 and total >500:\n",
    "    total *=0.9\n",
    "    print(total)\n",
    "else:\n",
    "    print(total)"
   ]
  },
  {
   "cell_type": "code",
   "execution_count": 69,
   "metadata": {},
   "outputs": [
    {
     "name": "stdout",
     "output_type": "stream",
     "text": [
      "油量充足\n"
     ]
    }
   ],
   "source": [
    "fuel = int(input(\"請輸入剩餘油量\"))\n",
    "if fuel <5:\n",
    "    print(\"需要立即加油\") \n",
    "elif fuel >=5 and fuel <=10:\n",
    "    print(\"油量不足 建議加油\")\n",
    "elif fuel >10:\n",
    "    print(\"油量充足\")\n"
   ]
  },
  {
   "cell_type": "code",
   "execution_count": 72,
   "metadata": {},
   "outputs": [
    {
     "name": "stdout",
     "output_type": "stream",
     "text": [
      "11000\n"
     ]
    }
   ],
   "source": [
    "amount = int(input(\"請輸入你的轉帳金額\"))\n",
    "if amount >10000:\n",
    "    print(amount)\n",
    "elif amount <=10000 and amount >=5000:\n",
    "    amount -=50\n",
    "    print(total)\n",
    "elif amount <=5000 and amount >=1000:\n",
    "    amount -=100\n",
    "    print(total)\n",
    "elif amount <=1000:\n",
    "    amount -=150\n",
    "    print(total)\n"
   ]
  },
  {
   "cell_type": "code",
   "execution_count": null,
   "metadata": {},
   "outputs": [],
   "source": []
  }
 ],
 "metadata": {
  "kernelspec": {
   "display_name": "Python 3",
   "language": "python",
   "name": "python3"
  },
  "language_info": {
   "codemirror_mode": {
    "name": "ipython",
    "version": 3
   },
   "file_extension": ".py",
   "mimetype": "text/x-python",
   "name": "python",
   "nbconvert_exporter": "python",
   "pygments_lexer": "ipython3",
   "version": "3.12.4"
  }
 },
 "nbformat": 4,
 "nbformat_minor": 2
}
